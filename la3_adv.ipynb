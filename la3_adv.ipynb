{
  "nbformat": 4,
  "nbformat_minor": 0,
  "metadata": {
    "colab": {
      "provenance": []
    },
    "kernelspec": {
      "name": "python3",
      "display_name": "Python 3"
    },
    "language_info": {
      "name": "python"
    }
  },
  "cells": [
    {
      "cell_type": "code",
      "execution_count": null,
      "metadata": {
        "id": "CsX6xI9-7I5A"
      },
      "outputs": [],
      "source": [
        "def selection_sort(arr):\n",
        "    n = len(arr)\n",
        "    for i in range(n):\n",
        "        min_index = i\n",
        "        for j in range(i+1, n):\n",
        "            if arr[j] < arr[min_index]:\n",
        "                min_index = j\n",
        "        arr[i], arr[min_index] = arr[min_index], arr[i]\n",
        "    return arr\n",
        "\n",
        "n = int(input('Enter no of elements'))\n",
        "arr = []\n",
        "for i in range(n):\n",
        "    arr.append(int(input()))\n",
        "sorted_arr = selection_sort(arr)\n",
        "print(\"Sorted array:\", sorted_arr)\n"
      ]
    },
    {
      "cell_type": "markdown",
      "source": [
        "job scheduling"
      ],
      "metadata": {
        "id": "AqbTBt0-8IbD"
      }
    },
    {
      "cell_type": "code",
      "source": [
        "def job_scheduling(jobs):\n",
        "    # Sort jobs based on their finish times\n",
        "    jobs.sort(key=lambda x: x[1])\n",
        "\n",
        "    # Initialize variables\n",
        "    scheduled_jobs = []\n",
        "    last_finish_time = 0\n",
        "\n",
        "    # Iterate through sorted jobs\n",
        "    for job in jobs:\n",
        "        start_time, finish_time = job\n",
        "        if start_time >= last_finish_time:\n",
        "            scheduled_jobs.append(job)\n",
        "            last_finish_time = finish_time\n",
        "\n",
        "    return scheduled_jobs\n",
        "\n",
        "# Example usage:\n",
        "jobs = [(1, 3), (2, 5), (4, 7), (6, 9), (8, 10)]\n",
        "scheduled_jobs = job_scheduling(jobs)\n",
        "print(\"Scheduled Jobs:\", scheduled_jobs)\n",
        "print(\"Number of scheduled jobs:\", len(scheduled_jobs))\n"
      ],
      "metadata": {
        "id": "8QeZNZOV7Oqs"
      },
      "execution_count": null,
      "outputs": []
    },
    {
      "cell_type": "markdown",
      "source": [
        "prims"
      ],
      "metadata": {
        "id": "IwUX4R7h8EGe"
      }
    },
    {
      "cell_type": "code",
      "source": [
        "import sys\n",
        "\n",
        "class Graph:\n",
        "    def __init__(self, vertices):\n",
        "        self.V = vertices\n",
        "        self.graph = [[0 for _ in range(vertices)] for _ in range(vertices)]\n",
        "\n",
        "    def add_edge(self, u, v, w):\n",
        "        self.graph[u][v] = w\n",
        "        self.graph[v][u] = w  # Graph is undirected\n",
        "\n",
        "    def min_key(self, key, mst_set):\n",
        "        min_val = sys.maxsize\n",
        "        min_index = -1\n",
        "\n",
        "        for v in range(self.V):\n",
        "            if key[v] < min_val and not mst_set[v]:\n",
        "                min_val = key[v]\n",
        "                min_index = v\n",
        "\n",
        "        return min_index\n",
        "\n",
        "    def prim_mst(self):\n",
        "        parent = [-1] * self.V\n",
        "        key = [sys.maxsize] * self.V\n",
        "        mst_set = [False] * self.V\n",
        "\n",
        "        key[0] = 0  # Starting from the first vertex\n",
        "\n",
        "        for _ in range(self.V - 1):\n",
        "            u = self.min_key(key, mst_set)\n",
        "            mst_set[u] = True\n",
        "\n",
        "            for v in range(self.V):\n",
        "                if self.graph[u][v] > 0 and not mst_set[v] and key[v] > self.graph[u][v]:\n",
        "                    key[v] = self.graph[u][v]\n",
        "                    parent[v] = u\n",
        "\n",
        "        return parent\n",
        "\n",
        "\n",
        "# Example usage:\n",
        "g = Graph(5)\n",
        "g.add_edge(0, 1, 2)\n",
        "g.add_edge(0, 3, 6)\n",
        "g.add_edge(1, 2, 3)\n",
        "g.add_edge(1, 3, 8)\n",
        "g.add_edge(1, 4, 5)\n",
        "g.add_edge(2, 4, 7)\n",
        "g.add_edge(3, 4, 9)\n",
        "\n",
        "parent = g.prim_mst()\n",
        "\n",
        "print(\"Edge \\tWeight\")\n",
        "for i in range(1, g.V):\n",
        "    print(f\"{parent[i]} - {i}\\t{g.graph[i][parent[i]]}\")\n"
      ],
      "metadata": {
        "id": "Wk_0yqg-7qFz"
      },
      "execution_count": null,
      "outputs": []
    },
    {
      "cell_type": "markdown",
      "source": [
        "Kuruskal mst"
      ],
      "metadata": {
        "id": "Cyq0vTSe8Ad9"
      }
    },
    {
      "cell_type": "code",
      "source": [
        "class Graph:\n",
        "    def __init__(self, vertices):\n",
        "        self.V = vertices\n",
        "        self.graph = []\n",
        "\n",
        "    def add_edge(self, u, v, w):\n",
        "        self.graph.append([u, v, w])\n",
        "\n",
        "    def find(self, parent, i):\n",
        "        if parent[i] == i:\n",
        "            return i\n",
        "        return self.find(parent, parent[i])\n",
        "\n",
        "    def union(self, parent, rank, x, y):\n",
        "        x_root = self.find(parent, x)\n",
        "        y_root = self.find(parent, y)\n",
        "\n",
        "        if rank[x_root] < rank[y_root]:\n",
        "            parent[x_root] = y_root\n",
        "        elif rank[x_root] > rank[y_root]:\n",
        "            parent[y_root] = x_root\n",
        "        else:\n",
        "            parent[y_root] = x_root\n",
        "            rank[x_root] += 1\n",
        "\n",
        "    def kruskal_mst(self):\n",
        "        result = []\n",
        "        i, e = 0, 0\n",
        "        self.graph = sorted(self.graph, key=lambda item: item[2])\n",
        "        parent = []\n",
        "        rank = []\n",
        "        for node in range(self.V):\n",
        "            parent.append(node)\n",
        "            rank.append(0)\n",
        "\n",
        "        while e < self.V - 1:\n",
        "            u, v, w = self.graph[i]\n",
        "            i += 1\n",
        "            x = self.find(parent, u)\n",
        "            y = self.find(parent, v)\n",
        "\n",
        "            if x != y:\n",
        "                e += 1\n",
        "                result.append([u, v, w])\n",
        "                self.union(parent, rank, x, y)\n",
        "\n",
        "        return result\n",
        "\n",
        "\n",
        "# Example usage:\n",
        "g = Graph(4)\n",
        "g.add_edge(0, 1, 10)\n",
        "g.add_edge(0, 2, 6)\n",
        "g.add_edge(0, 3, 5)\n",
        "g.add_edge(1, 3, 15)\n",
        "g.add_edge(2, 3, 4)\n",
        "\n",
        "mst = g.kruskal_mst()\n",
        "print(\"Edges in the MST:\")\n",
        "for u, v, weight in mst:\n",
        "    print(f\"{u} -- {v} == {weight}\")\n"
      ],
      "metadata": {
        "id": "i2e468RN7-Kh"
      },
      "execution_count": null,
      "outputs": []
    }
  ]
}
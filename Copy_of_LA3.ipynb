{
  "nbformat": 4,
  "nbformat_minor": 0,
  "metadata": {
    "colab": {
      "provenance": []
    },
    "kernelspec": {
      "name": "python3",
      "display_name": "Python 3"
    },
    "language_info": {
      "name": "python"
    }
  },
  "cells": [
    {
      "cell_type": "markdown",
      "source": [
        "**SELECTION  SORT**"
      ],
      "metadata": {
        "id": "oCjmpSuS1aWc"
      }
    },
    {
      "cell_type": "code",
      "execution_count": null,
      "metadata": {
        "id": "4hMGTFdC1TUX"
      },
      "outputs": [],
      "source": [
        "def selection_sort(arr):\n",
        "    n = len(arr)\n",
        "    for i in range(n):\n",
        "        min_index = i\n",
        "        for j in range(i+1, n):\n",
        "            if arr[j] < arr[min_index]:\n",
        "                min_index = j\n",
        "        arr[i], arr[min_index] = arr[min_index], arr[i]\n",
        "    return arr\n",
        "\n",
        "n = int(input('Enter no of elements'))\n",
        "arr = []\n",
        "for i in range(n):\n",
        "    arr.append(int(input()))\n",
        "sorted_arr = selection_sort(arr)\n",
        "print(\"Sorted array:\", sorted_arr)"
      ]
    },
    {
      "cell_type": "markdown",
      "source": [
        "**MINIMUM SPANNING TREE**"
      ],
      "metadata": {
        "id": "5jV71YMa1Ypm"
      }
    },
    {
      "cell_type": "code",
      "source": [
        "\n",
        "\n",
        "class Graph:\n",
        "    def __init__(self):\n",
        "        self.graph = []\n",
        "\n",
        "    def add_edge(self, u, v, w):\n",
        "        self.graph.append((u, v, w))\n",
        "\n",
        "    def minimum_spanning_tree(self):\n",
        "        self.graph.sort(key=lambda x: x[2])\n",
        "        parent, rank, result, total_cost = {}, {}, [], 0\n",
        "\n",
        "        def find(x):\n",
        "            if parent[x] != x: parent[x] = find(parent[x])\n",
        "            return parent[x]\n",
        "\n",
        "        def union(x, y):\n",
        "            root_x, root_y = find(x), find(y)\n",
        "            if rank[root_x] < rank[root_y]: parent[root_x] = root_y\n",
        "            elif rank[root_x] > rank[root_y]: parent[root_y] = root_x\n",
        "            else: parent[root_y] = root_x; rank[root_x] += 1\n",
        "\n",
        "        for u, v, w in self.graph:\n",
        "            for vertex in (u, v):\n",
        "                if vertex not in parent: parent[vertex], rank[vertex] = vertex, 0\n",
        "            if find(u) != find(v):\n",
        "                union(u, v); result.append((u, v, w)); total_cost += w\n",
        "\n",
        "        return result, total_cost\n",
        "\n",
        "\n",
        "def take_input():\n",
        "    g = Graph()\n",
        "    for _ in range(int(input(\"Enter the number of edges: \"))):\n",
        "        u, v, w = input(\"Enter edge (source destination weight): \").split()\n",
        "        g.add_edge(u, v, int(w))\n",
        "    return g\n",
        "\n",
        "\n",
        "graph = take_input()\n",
        "mst_edges, total_cost = graph.minimum_spanning_tree()\n",
        "print(\"Minimum Spanning Tree edges:\")\n",
        "for edge in mst_edges: print(edge)\n",
        "print(\"Total cost:\", total_cost)\n"
      ],
      "metadata": {
        "id": "TYXcMjxb1-UB"
      },
      "execution_count": null,
      "outputs": []
    },
    {
      "cell_type": "markdown",
      "source": [
        "**PRIM MST**"
      ],
      "metadata": {
        "id": "op1l-gFT2In1"
      }
    },
    {
      "cell_type": "code",
      "source": [
        "class Graph:\n",
        "    def __init__(self, vertices):\n",
        "        self.V = vertices\n",
        "        self.vertices_dict = {}\n",
        "        self.graph = [[] for _ in range(vertices)]\n",
        "\n",
        "    def add_edge(self, u, v, w):\n",
        "        u_index = self.get_vertex_index(u)\n",
        "        v_index = self.get_vertex_index(v)\n",
        "        self.graph[u_index].append((v_index, w))\n",
        "        self.graph[v_index].append((u_index, w))\n",
        "\n",
        "    def get_vertex_index(self, vertex):\n",
        "        if vertex not in self.vertices_dict:\n",
        "            index = len(self.vertices_dict)\n",
        "            self.vertices_dict[vertex] = index\n",
        "            return index\n",
        "        return self.vertices_dict[vertex]\n",
        "\n",
        "    def prim_mst(self):\n",
        "        visited = [False] * self.V\n",
        "        key = [float('inf')] * self.V\n",
        "        parent = [-1] * self.V\n",
        "        key[0] = 0\n",
        "\n",
        "        for _ in range(self.V):\n",
        "            u = self.min_key(key, visited)\n",
        "            visited[u] = True\n",
        "            for v, weight in self.graph[u]:\n",
        "                if not visited[v] and weight < key[v]:\n",
        "                    key[v] = weight\n",
        "                    parent[v] = u\n",
        "\n",
        "        mst_edges = [(self.get_vertex_name(parent[i]), self.get_vertex_name(i), key[i]) for i in range(1, self.V)]\n",
        "        return mst_edges, sum(key[1:])\n",
        "\n",
        "    def min_key(self, key, visited):\n",
        "        min_val = float('inf')\n",
        "        min_index = -1\n",
        "        for v in range(self.V):\n",
        "            if not visited[v] and key[v] < min_val:\n",
        "                min_val = key[v]\n",
        "                min_index = v\n",
        "        return min_index\n",
        "\n",
        "    def get_vertex_name(self, index):\n",
        "        for name, idx in self.vertices_dict.items():\n",
        "            if idx == index:\n",
        "                return name\n",
        "\n",
        "\n",
        "def take_input():\n",
        "    vertices = int(input(\"Enter the number of vertices: \"))\n",
        "    edges = int(input(\"Enter the number of edges: \"))\n",
        "    g = Graph(vertices)\n",
        "    print(\"Enter edges in the format 'source destination weight': \")\n",
        "    for _ in range(edges):\n",
        "        u, v, w = input().split()\n",
        "        g.add_edge(u, v, int(w))\n",
        "    return g\n",
        "\n",
        "\n",
        "print(\"Enter graph details:\")\n",
        "graph = take_input()\n",
        "mst_edges, total_cost = graph.prim_mst()\n",
        "print(\"Minimum Spanning Tree edges using Prim's algorithm:\")\n",
        "for edge in mst_edges:\n",
        "    print(edge)\n",
        "print(\"Total cost of Minimum Spanning Tree:\", total_cost)\n"
      ],
      "metadata": {
        "id": "YsftjT4T2JFl"
      },
      "execution_count": null,
      "outputs": []
    },
    {
      "cell_type": "markdown",
      "source": [
        "**JOB SCHEDULING**"
      ],
      "metadata": {
        "id": "HgLd248L2Xbz"
      }
    },
    {
      "cell_type": "code",
      "source": [
        "class Job:\n",
        "    def __init__(self, id, deadline, profit):\n",
        "        self.id = id\n",
        "        self.deadline = deadline\n",
        "        self.profit = profit\n",
        "\n",
        "def get_max_deadline(jobs):\n",
        "    max_deadline = 0\n",
        "    for job in jobs:\n",
        "        max_deadline = max(max_deadline, job.deadline)\n",
        "    return max_deadline\n",
        "\n",
        "def schedule_jobs(jobs, scheduled_jobs):\n",
        "    jobs.sort(key=lambda x: x.profit, reverse=True)\n",
        "    for job in jobs:\n",
        "        for j in range(job.deadline - 1, -1, -1):\n",
        "            if scheduled_jobs[j] is None:\n",
        "                scheduled_jobs[j] = job\n",
        "                break\n",
        "\n",
        "def calculate_total_profit(jobs):\n",
        "    total_profit = 0\n",
        "    for job in jobs:\n",
        "        if job is not None:\n",
        "            total_profit += job.profit\n",
        "    return total_profit\n",
        "\n",
        "def main():\n",
        "    n = int(input(\"Enter the number of jobs: \"))\n",
        "    jobs = []\n",
        "\n",
        "    for i in range(n):\n",
        "        print(f\"Enter details for job {i + 1}:\")\n",
        "        id = int(input(\"ID: \"))\n",
        "        deadline = int(input(\"Deadline: \"))\n",
        "        profit = int(input(\"Profit: \"))\n",
        "        jobs.append(Job(id, deadline, profit))\n",
        "\n",
        "    max_deadline = get_max_deadline(jobs)\n",
        "    scheduled_jobs = [None] * max_deadline\n",
        "\n",
        "    schedule_jobs(jobs, scheduled_jobs)\n",
        "\n",
        "    total_profit = calculate_total_profit(scheduled_jobs)\n",
        "\n",
        "    print(\"Scheduled Jobs: \")\n",
        "    for job in scheduled_jobs:\n",
        "        if job is not None:\n",
        "            print(f\"Job ID: {job.id}, Deadline: {job.deadline}, Profit: {job.profit}\")\n",
        "    print(\"Total Profit:\", total_profit)\n",
        "\n",
        "if __name__ == \"__main__\":\n",
        "    main()\n"
      ],
      "metadata": {
        "id": "557wiBGU2W7H"
      },
      "execution_count": null,
      "outputs": []
    },
    {
      "cell_type": "markdown",
      "source": [
        "**KURUSKAL MST **"
      ],
      "metadata": {
        "id": "YuuOpOvV2WiZ"
      }
    },
    {
      "cell_type": "code",
      "source": [
        "class DisjointSet:\n",
        "    def __init__(self):\n",
        "        self.parent = {}\n",
        "        self.rank = {}\n",
        "\n",
        "    def make_set(self, vertex):\n",
        "        self.parent[vertex] = vertex\n",
        "        self.rank[vertex] = 0\n",
        "\n",
        "    def find(self, vertex):\n",
        "        if self.parent[vertex] != vertex:\n",
        "            self.parent[vertex] = self.find(self.parent[vertex])\n",
        "        return self.parent[vertex]\n",
        "\n",
        "    def union(self, vertex1, vertex2):\n",
        "        root1 = self.find(vertex1)\n",
        "        root2 = self.find(vertex2)\n",
        "        if root1 != root2:\n",
        "            if self.rank[root1] > self.rank[root2]:\n",
        "                self.parent[root2] = root1\n",
        "            else:\n",
        "                self.parent[root1] = root2\n",
        "                if self.rank[root1] == self.rank[root2]:\n",
        "                    self.rank[root2] += 1\n",
        "\n",
        "\n",
        "def kruskal_mst(graph):\n",
        "    disjoint_set = DisjointSet()\n",
        "    mst = []\n",
        "    edges = sorted((weight, u, v) for u in graph for v, weight in graph[u].items())\n",
        "\n",
        "    for vertex in graph:\n",
        "        disjoint_set.make_set(vertex)\n",
        "\n",
        "    for weight, u, v in edges:\n",
        "        if disjoint_set.find(u) != disjoint_set.find(v):\n",
        "            disjoint_set.union(u, v)\n",
        "            mst.append((u, v, weight))\n",
        "\n",
        "    return mst\n",
        "\n",
        "\n",
        "def take_input():\n",
        "    graph = {}\n",
        "    for _ in range(int(input(\"Enter the number of edges: \"))):\n",
        "        u, v, w = input(\"Enter edge (source destination weight): \").split()\n",
        "        w = int(w)\n",
        "        graph.setdefault(u, {})[v] = w\n",
        "        graph.setdefault(v, {})[u] = w\n",
        "    return graph\n",
        "\n",
        "\n",
        "graph = take_input()\n",
        "mst = kruskal_mst(graph)\n",
        "print(\"Minimum Spanning Tree (Kruskal's Algorithm):\", mst)\n"
      ],
      "metadata": {
        "id": "Zv8mcTXo2xhq"
      },
      "execution_count": null,
      "outputs": []
    }
  ]
}
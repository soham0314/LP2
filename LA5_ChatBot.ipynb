{
  "nbformat": 4,
  "nbformat_minor": 0,
  "metadata": {
    "colab": {
      "provenance": []
    },
    "kernelspec": {
      "name": "python3",
      "display_name": "Python 3"
    },
    "language_info": {
      "name": "python"
    }
  },
  "cells": [
    {
      "cell_type": "code",
      "execution_count": null,
      "metadata": {
        "id": "urQFKWD23vda"
      },
      "outputs": [],
      "source": [
        "import random\n",
        "\n",
        "def greet():\n",
        "    greetings = [\"Hi there!\", \"Hello!\", \"Hey!\"]\n",
        "    return random.choice(greetings)\n",
        "\n",
        "def ask_name():\n",
        "    return input(\"What's your name? \")\n",
        "\n",
        "def chat():\n",
        "    print(greet())\n",
        "    name = ask_name()\n",
        "    print(\"Nice to meet you, \" + name + \"!\")\n",
        "    while True:\n",
        "        user_input = input(\"You: \")\n",
        "        if user_input.lower() == 'exit':\n",
        "            print(\"Bot: Goodbye!\")\n",
        "            break\n",
        "        else:\n",
        "            response = generate_response(user_input)\n",
        "            print(\"Bot:\", response)\n",
        "\n",
        "def generate_response(user_input):\n",
        "    responses = {\n",
        "        \"hello\": \"Hello! Welcome to our online store. How can I assist you today?\",\n",
        "        \"what products do you offer?\": \"We offer a wide range of products including electronics, clothing, accessories, home goods, and more!\",\n",
        "        \"do you have any sales or promotions?\": \"Yes, we often have sales and promotions! You can check our website or sign up for our newsletter to stay updated.\",\n",
        "        \"can I track my order?\": \"Of course! Please provide your order number and I'll look up the status for you.\",\n",
        "        \"how do I return an item?\": \"We have a hassle-free return policy. Simply contact our customer service team and they'll assist you with the return process.\",\n",
        "        \"what payment methods do you accept?\": \"We accept various payment methods including credit/debit cards, PayPal, and bank transfers.\",\n",
        "        \"do you offer international shipping?\": \"Yes, we offer international shipping to many countries. You can check the shipping options during checkout.\",\n",
        "        \"how long does shipping take?\": \"Shipping times depend on your location and the shipping method chosen. You can find estimated delivery times during checkout.\",\n",
        "        \"is my personal information secure?\": \"Absolutely! We take customer privacy and security very seriously. Your personal information is encrypted and protected.\",\n",
        "        \"what's your refund policy?\": \"We offer refunds on eligible items within a specified period. Please refer to our refund policy for more details.\",\n",
        "        \"do you have a customer loyalty program?\": \"Yes, we have a loyalty program where you can earn points for every purchase and redeem them for discounts or rewards.\",\n",
        "        \"can I speak to a human representative?\": \"Certainly! If you need further assistance, please contact our customer service team and they'll be happy to help.\",\n",
        "        \"bye\": \"Thank you for visiting our store! Have a great day!\",\n",
        "    }\n",
        "    response = responses.get(user_input.lower(), \"I'm sorry, I didn't understand that.\")\n",
        "    return response\n",
        "\n",
        "if __name__ == \"__main__\":\n",
        "    chat()"
      ]
    }
  ]
}
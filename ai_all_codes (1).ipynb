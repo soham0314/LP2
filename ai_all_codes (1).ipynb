{
  "cells": [
    {
      "cell_type": "markdown",
      "id": "00be544a-69ba-4ba7-ab4b-bae0aaf7a844",
      "metadata": {
        "id": "00be544a-69ba-4ba7-ab4b-bae0aaf7a844"
      },
      "source": [
        "SELECTION SORT"
      ]
    },
    {
      "cell_type": "markdown",
      "source": [
        "# New Section"
      ],
      "metadata": {
        "id": "R9HLRwniZc9y"
      },
      "id": "R9HLRwniZc9y"
    },
    {
      "cell_type": "code",
      "source": [],
      "metadata": {
        "id": "a_fKgOgfZgVC"
      },
      "id": "a_fKgOgfZgVC",
      "execution_count": null,
      "outputs": []
    },
    {
      "cell_type": "code",
      "execution_count": null,
      "id": "778b1a6d-bfdc-427c-918b-11f1a2b67995",
      "metadata": {
        "id": "778b1a6d-bfdc-427c-918b-11f1a2b67995",
        "outputId": "b4f346c8-27b1-41b0-f01a-3d76834e4618"
      },
      "outputs": [
        {
          "name": "stdin",
          "output_type": "stream",
          "text": [
            "Enter no of elements 5\n",
            " 64\n",
            " 25\n",
            " 12\n",
            " 22\n",
            " 11\n"
          ]
        },
        {
          "name": "stdout",
          "output_type": "stream",
          "text": [
            "Sorted array: [11, 12, 22, 25, 64]\n"
          ]
        }
      ],
      "source": [
        "def selection_sort(arr):\n",
        "    n = len(arr)\n",
        "    for i in range(n):\n",
        "        min_index = i\n",
        "        for j in range(i+1, n):\n",
        "            if arr[j] < arr[min_index]:\n",
        "                min_index = j\n",
        "        arr[i], arr[min_index] = arr[min_index], arr[i]\n",
        "    return arr\n",
        "\n",
        "n = int(input('Enter no of elements'))\n",
        "arr = []\n",
        "for i in range(n):\n",
        "    arr.append(int(input()))\n",
        "sorted_arr = selection_sort(arr)\n",
        "print(\"Sorted array:\", sorted_arr)\n"
      ]
    },
    {
      "cell_type": "markdown",
      "id": "4f23c018-5540-4fc7-910e-9776ef93f480",
      "metadata": {
        "id": "4f23c018-5540-4fc7-910e-9776ef93f480"
      },
      "source": [
        "MINIMUM SPANNING TREE"
      ]
    },
    {
      "cell_type": "code",
      "execution_count": null,
      "id": "5888ca42-a79c-48b0-8cf0-435e4f4d5cbd",
      "metadata": {
        "id": "5888ca42-a79c-48b0-8cf0-435e4f4d5cbd",
        "outputId": "8f885ab4-8998-42b9-c1de-3c1fc37cf3d0"
      },
      "outputs": [
        {
          "name": "stdin",
          "output_type": "stream",
          "text": [
            "Enter the number of edges:  4\n",
            "Enter edge (source destination weight):  a b 4\n",
            "Enter edge (source destination weight):  b c 1\n",
            "Enter edge (source destination weight):  c d 2\n",
            "Enter edge (source destination weight):  d a 5\n"
          ]
        },
        {
          "name": "stdout",
          "output_type": "stream",
          "text": [
            "Minimum Spanning Tree edges:\n",
            "('b', 'c', 1)\n",
            "('c', 'd', 2)\n",
            "('a', 'b', 4)\n",
            "Total cost: 7\n"
          ]
        }
      ],
      "source": [
        "\n",
        "\n",
        "class Graph:\n",
        "    def __init__(self):\n",
        "        self.graph = []\n",
        "\n",
        "    def add_edge(self, u, v, w):\n",
        "        self.graph.append((u, v, w))\n",
        "\n",
        "    def minimum_spanning_tree(self):\n",
        "        self.graph.sort(key=lambda x: x[2])\n",
        "        parent, rank, result, total_cost = {}, {}, [], 0\n",
        "\n",
        "        def find(x):\n",
        "            if parent[x] != x: parent[x] = find(parent[x])\n",
        "            return parent[x]\n",
        "\n",
        "        def union(x, y):\n",
        "            root_x, root_y = find(x), find(y)\n",
        "            if rank[root_x] < rank[root_y]: parent[root_x] = root_y\n",
        "            elif rank[root_x] > rank[root_y]: parent[root_y] = root_x\n",
        "            else: parent[root_y] = root_x; rank[root_x] += 1\n",
        "\n",
        "        for u, v, w in self.graph:\n",
        "            for vertex in (u, v):\n",
        "                if vertex not in parent: parent[vertex], rank[vertex] = vertex, 0\n",
        "            if find(u) != find(v):\n",
        "                union(u, v); result.append((u, v, w)); total_cost += w\n",
        "\n",
        "        return result, total_cost\n",
        "\n",
        "\n",
        "def take_input():\n",
        "    g = Graph()\n",
        "    for _ in range(int(input(\"Enter the number of edges: \"))):\n",
        "        u, v, w = input(\"Enter edge (source destination weight): \").split()\n",
        "        g.add_edge(u, v, int(w))\n",
        "    return g\n",
        "\n",
        "\n",
        "graph = take_input()\n",
        "mst_edges, total_cost = graph.minimum_spanning_tree()\n",
        "print(\"Minimum Spanning Tree edges:\")\n",
        "for edge in mst_edges: print(edge)\n",
        "print(\"Total cost:\", total_cost)\n"
      ]
    },
    {
      "cell_type": "markdown",
      "id": "768aef90-fb76-4d52-8c69-212d3bae1163",
      "metadata": {
        "id": "768aef90-fb76-4d52-8c69-212d3bae1163"
      },
      "source": [
        "PRIM MST"
      ]
    },
    {
      "cell_type": "code",
      "execution_count": null,
      "id": "1296ef2e-65d6-43ef-9ab4-9f9100863086",
      "metadata": {
        "id": "1296ef2e-65d6-43ef-9ab4-9f9100863086",
        "outputId": "3f32d262-9873-49bc-a419-38449e24c90f"
      },
      "outputs": [
        {
          "name": "stdout",
          "output_type": "stream",
          "text": [
            "Enter graph details:\n"
          ]
        },
        {
          "name": "stdin",
          "output_type": "stream",
          "text": [
            "Enter the number of vertices:  6\n",
            "Enter the number of edges:  10\n"
          ]
        },
        {
          "name": "stdout",
          "output_type": "stream",
          "text": [
            "Enter edges in the format 'source destination weight': \n"
          ]
        },
        {
          "name": "stdin",
          "output_type": "stream",
          "text": [
            " s a 12\n",
            " s b 8\n",
            " a b 9\n",
            " a c 22\n",
            " a e 11\n",
            " b e 14\n",
            " b c 16\n",
            " c e 18\n",
            " c d 15\n",
            " e d 3\n"
          ]
        },
        {
          "name": "stdout",
          "output_type": "stream",
          "text": [
            "Minimum Spanning Tree edges using Prim's algorithm:\n",
            "('b', 'a', 9)\n",
            "('s', 'b', 8)\n",
            "('d', 'c', 15)\n",
            "('a', 'e', 11)\n",
            "('e', 'd', 3)\n",
            "Total cost of Minimum Spanning Tree: 46\n"
          ]
        }
      ],
      "source": [
        "class Graph:\n",
        "    def __init__(self, vertices):\n",
        "        self.V = vertices\n",
        "        self.vertices_dict = {}\n",
        "        self.graph = [[] for _ in range(vertices)]\n",
        "\n",
        "    def add_edge(self, u, v, w):\n",
        "        u_index = self.get_vertex_index(u)\n",
        "        v_index = self.get_vertex_index(v)\n",
        "        self.graph[u_index].append((v_index, w))\n",
        "        self.graph[v_index].append((u_index, w))\n",
        "\n",
        "    def get_vertex_index(self, vertex):\n",
        "        if vertex not in self.vertices_dict:\n",
        "            index = len(self.vertices_dict)\n",
        "            self.vertices_dict[vertex] = index\n",
        "            return index\n",
        "        return self.vertices_dict[vertex]\n",
        "\n",
        "    def prim_mst(self):\n",
        "        visited = [False] * self.V\n",
        "        key = [float('inf')] * self.V\n",
        "        parent = [-1] * self.V\n",
        "        key[0] = 0\n",
        "\n",
        "        for _ in range(self.V):\n",
        "            u = self.min_key(key, visited)\n",
        "            visited[u] = True\n",
        "            for v, weight in self.graph[u]:\n",
        "                if not visited[v] and weight < key[v]:\n",
        "                    key[v] = weight\n",
        "                    parent[v] = u\n",
        "\n",
        "        mst_edges = [(self.get_vertex_name(parent[i]), self.get_vertex_name(i), key[i]) for i in range(1, self.V)]\n",
        "        return mst_edges, sum(key[1:])\n",
        "\n",
        "    def min_key(self, key, visited):\n",
        "        min_val = float('inf')\n",
        "        min_index = -1\n",
        "        for v in range(self.V):\n",
        "            if not visited[v] and key[v] < min_val:\n",
        "                min_val = key[v]\n",
        "                min_index = v\n",
        "        return min_index\n",
        "\n",
        "    def get_vertex_name(self, index):\n",
        "        for name, idx in self.vertices_dict.items():\n",
        "            if idx == index:\n",
        "                return name\n",
        "\n",
        "\n",
        "def take_input():\n",
        "    vertices = int(input(\"Enter the number of vertices: \"))\n",
        "    edges = int(input(\"Enter the number of edges: \"))\n",
        "    g = Graph(vertices)\n",
        "    print(\"Enter edges in the format 'source destination weight': \")\n",
        "    for _ in range(edges):\n",
        "        u, v, w = input().split()\n",
        "        g.add_edge(u, v, int(w))\n",
        "    return g\n",
        "\n",
        "\n",
        "print(\"Enter graph details:\")\n",
        "graph = take_input()\n",
        "mst_edges, total_cost = graph.prim_mst()\n",
        "print(\"Minimum Spanning Tree edges using Prim's algorithm:\")\n",
        "for edge in mst_edges:\n",
        "    print(edge)\n",
        "print(\"Total cost of Minimum Spanning Tree:\", total_cost)\n"
      ]
    },
    {
      "cell_type": "markdown",
      "id": "cc2ddf06-cc33-407c-b6c3-64c05040e0af",
      "metadata": {
        "id": "cc2ddf06-cc33-407c-b6c3-64c05040e0af"
      },
      "source": [
        "KRUSKAL MST"
      ]
    },
    {
      "cell_type": "code",
      "execution_count": null,
      "id": "ca3829c3-a41f-462b-a5a6-493f71b0dc17",
      "metadata": {
        "id": "ca3829c3-a41f-462b-a5a6-493f71b0dc17",
        "outputId": "0a24afbb-c813-4f5d-8d36-ce1bac61b155"
      },
      "outputs": [
        {
          "name": "stdin",
          "output_type": "stream",
          "text": [
            "Enter the number of edges:  10\n",
            "Enter edge (source destination weight):  a b 6\n",
            "Enter edge (source destination weight):  a g 15\n",
            "Enter edge (source destination weight):  b c 11\n",
            "Enter edge (source destination weight):  g c 25\n",
            "Enter edge (source destination weight):  b d 5\n",
            "Enter edge (source destination weight):  g f 12\n",
            "Enter edge (source destination weight):  c d 17\n",
            "Enter edge (source destination weight):  c f 9\n",
            "Enter edge (source destination weight):  d e 22\n",
            "Enter edge (source destination weight):  f e 10\n"
          ]
        },
        {
          "name": "stdout",
          "output_type": "stream",
          "text": [
            "Minimum Spanning Tree (Kruskal's Algorithm): [('b', 'd', 5), ('a', 'b', 6), ('c', 'f', 9), ('e', 'f', 10), ('b', 'c', 11), ('f', 'g', 12)]\n"
          ]
        }
      ],
      "source": [
        "class DisjointSet:\n",
        "    def __init__(self):\n",
        "        self.parent = {}\n",
        "        self.rank = {}\n",
        "\n",
        "    def make_set(self, vertex):\n",
        "        self.parent[vertex] = vertex\n",
        "        self.rank[vertex] = 0\n",
        "\n",
        "    def find(self, vertex):\n",
        "        if self.parent[vertex] != vertex:\n",
        "            self.parent[vertex] = self.find(self.parent[vertex])\n",
        "        return self.parent[vertex]\n",
        "\n",
        "    def union(self, vertex1, vertex2):\n",
        "        root1 = self.find(vertex1)\n",
        "        root2 = self.find(vertex2)\n",
        "        if root1 != root2:\n",
        "            if self.rank[root1] > self.rank[root2]:\n",
        "                self.parent[root2] = root1\n",
        "            else:\n",
        "                self.parent[root1] = root2\n",
        "                if self.rank[root1] == self.rank[root2]:\n",
        "                    self.rank[root2] += 1\n",
        "\n",
        "\n",
        "def kruskal_mst(graph):\n",
        "    disjoint_set = DisjointSet()\n",
        "    mst = []\n",
        "    edges = sorted((weight, u, v) for u in graph for v, weight in graph[u].items())\n",
        "\n",
        "    for vertex in graph:\n",
        "        disjoint_set.make_set(vertex)\n",
        "\n",
        "    for weight, u, v in edges:\n",
        "        if disjoint_set.find(u) != disjoint_set.find(v):\n",
        "            disjoint_set.union(u, v)\n",
        "            mst.append((u, v, weight))\n",
        "\n",
        "    return mst\n",
        "\n",
        "\n",
        "def take_input():\n",
        "    graph = {}\n",
        "    for _ in range(int(input(\"Enter the number of edges: \"))):\n",
        "        u, v, w = input(\"Enter edge (source destination weight): \").split()\n",
        "        w = int(w)\n",
        "        graph.setdefault(u, {})[v] = w\n",
        "        graph.setdefault(v, {})[u] = w\n",
        "    return graph\n",
        "\n",
        "\n",
        "graph = take_input()\n",
        "mst = kruskal_mst(graph)\n",
        "print(\"Minimum Spanning Tree (Kruskal's Algorithm):\", mst)\n"
      ]
    },
    {
      "cell_type": "code",
      "execution_count": null,
      "id": "ddb67698-3baa-42bc-bc0f-66d552654515",
      "metadata": {
        "id": "ddb67698-3baa-42bc-bc0f-66d552654515",
        "outputId": "fd504071-f59c-4708-cee5-51f39b3eb3ed"
      },
      "outputs": [
        {
          "name": "stdin",
          "output_type": "stream",
          "text": [
            "Enter the number of jobs:  5\n"
          ]
        },
        {
          "name": "stdout",
          "output_type": "stream",
          "text": [
            "Enter details for job 1:\n"
          ]
        },
        {
          "name": "stdin",
          "output_type": "stream",
          "text": [
            "ID:  1\n",
            "Deadline:  2\n",
            "Profit:  100\n"
          ]
        },
        {
          "name": "stdout",
          "output_type": "stream",
          "text": [
            "Enter details for job 2:\n"
          ]
        },
        {
          "name": "stdin",
          "output_type": "stream",
          "text": [
            "ID:  2\n",
            "Deadline:  1\n",
            "Profit:  19\n"
          ]
        },
        {
          "name": "stdout",
          "output_type": "stream",
          "text": [
            "Enter details for job 3:\n"
          ]
        },
        {
          "name": "stdin",
          "output_type": "stream",
          "text": [
            "ID:  3\n",
            "Deadline:  2\n",
            "Profit:  27\n"
          ]
        },
        {
          "name": "stdout",
          "output_type": "stream",
          "text": [
            "Enter details for job 4:\n"
          ]
        },
        {
          "name": "stdin",
          "output_type": "stream",
          "text": [
            "ID:  4\n",
            "Deadline:  1\n",
            "Profit:  25\n"
          ]
        },
        {
          "name": "stdout",
          "output_type": "stream",
          "text": [
            "Enter details for job 5:\n"
          ]
        },
        {
          "name": "stdin",
          "output_type": "stream",
          "text": [
            "ID:  5\n",
            "Deadline:  3\n",
            "Profit:  15\n"
          ]
        },
        {
          "name": "stdout",
          "output_type": "stream",
          "text": [
            "Scheduled Jobs: \n",
            "Job ID: 3, Deadline: 2, Profit: 27\n",
            "Job ID: 1, Deadline: 2, Profit: 100\n",
            "Job ID: 5, Deadline: 3, Profit: 15\n",
            "Total Profit: 142\n"
          ]
        }
      ],
      "source": [
        "class Job:\n",
        "    def __init__(self, id, deadline, profit):\n",
        "        self.id = id\n",
        "        self.deadline = deadline\n",
        "        self.profit = profit\n",
        "\n",
        "def get_max_deadline(jobs):\n",
        "    max_deadline = 0\n",
        "    for job in jobs:\n",
        "        max_deadline = max(max_deadline, job.deadline)\n",
        "    return max_deadline\n",
        "\n",
        "def schedule_jobs(jobs, scheduled_jobs):\n",
        "    jobs.sort(key=lambda x: x.profit, reverse=True)\n",
        "    for job in jobs:\n",
        "        for j in range(job.deadline - 1, -1, -1):\n",
        "            if scheduled_jobs[j] is None:\n",
        "                scheduled_jobs[j] = job\n",
        "                break\n",
        "\n",
        "def calculate_total_profit(jobs):\n",
        "    total_profit = 0\n",
        "    for job in jobs:\n",
        "        if job is not None:\n",
        "            total_profit += job.profit\n",
        "    return total_profit\n",
        "\n",
        "def main():\n",
        "    n = int(input(\"Enter the number of jobs: \"))\n",
        "    jobs = []\n",
        "\n",
        "    for i in range(n):\n",
        "        print(f\"Enter details for job {i + 1}:\")\n",
        "        id = int(input(\"ID: \"))\n",
        "        deadline = int(input(\"Deadline: \"))\n",
        "        profit = int(input(\"Profit: \"))\n",
        "        jobs.append(Job(id, deadline, profit))\n",
        "\n",
        "    max_deadline = get_max_deadline(jobs)\n",
        "    scheduled_jobs = [None] * max_deadline\n",
        "\n",
        "    schedule_jobs(jobs, scheduled_jobs)\n",
        "\n",
        "    total_profit = calculate_total_profit(scheduled_jobs)\n",
        "\n",
        "    print(\"Scheduled Jobs: \")\n",
        "    for job in scheduled_jobs:\n",
        "        if job is not None:\n",
        "            print(f\"Job ID: {job.id}, Deadline: {job.deadline}, Profit: {job.profit}\")\n",
        "    print(\"Total Profit:\", total_profit)\n",
        "\n",
        "if __name__ == \"__main__\":\n",
        "    main()\n"
      ]
    },
    {
      "cell_type": "code",
      "execution_count": null,
      "id": "17dfe1f6-3328-4769-885d-46bb055b6eca",
      "metadata": {
        "id": "17dfe1f6-3328-4769-885d-46bb055b6eca",
        "outputId": "4004acf9-05f7-485e-b193-c853f2319557"
      },
      "outputs": [
        {
          "name": "stdout",
          "output_type": "stream",
          "text": [
            "Minimum Spanning Tree (Dijkstra's Algorithm): [('A', 'C', 2), ('C', 'D', 3), ('A', 'B', 4)]\n"
          ]
        }
      ],
      "source": [
        "import heapq\n",
        "\n",
        "def dijkstra_mst(graph, source):\n",
        "    mst = []\n",
        "    visited = set()\n",
        "    distances = {vertex: float('inf') for vertex in graph}\n",
        "    distances[source] = 0\n",
        "    pq = [(0, source, None)]  # (distance, vertex, parent)\n",
        "\n",
        "    while pq:\n",
        "        dist, current_vertex, parent = heapq.heappop(pq)\n",
        "        if current_vertex in visited:\n",
        "            continue\n",
        "        visited.add(current_vertex)\n",
        "        if parent is not None:\n",
        "            mst.append((parent, current_vertex, dist))\n",
        "        for neighbor, weight in graph[current_vertex].items():\n",
        "            if neighbor not in visited:\n",
        "                heapq.heappush(pq, (weight, neighbor, current_vertex))\n",
        "                distances[neighbor] = min(distances[neighbor], weight)\n",
        "\n",
        "    return mst\n",
        "\n",
        "# Example graph represented as an adjacency list\n",
        "graph = {\n",
        "    'A': {'B': 4, 'C': 2},\n",
        "    'B': {'A': 4, 'C': 5, 'D': 10},\n",
        "    'C': {'A': 2, 'B': 5, 'D': 3},\n",
        "    'D': {'B': 10, 'C': 3}\n",
        "}\n",
        "\n",
        "source_vertex = 'A'\n",
        "minimum_spanning_tree = dijkstra_mst(graph, source_vertex)\n",
        "print(\"Minimum Spanning Tree (Dijkstra's Algorithm):\", minimum_spanning_tree)"
      ]
    },
    {
      "cell_type": "code",
      "execution_count": null,
      "id": "84d96f1d-11be-4f76-a3b3-d8520287ad59",
      "metadata": {
        "id": "84d96f1d-11be-4f76-a3b3-d8520287ad59",
        "outputId": "968e14c9-5373-42ff-e603-cf273c0df2e7"
      },
      "outputs": [
        {
          "name": "stdin",
          "output_type": "stream",
          "text": [
            "Enter the number of vertices in the graph:  5\n"
          ]
        },
        {
          "name": "stdout",
          "output_type": "stream",
          "text": [
            "Enter the adjacency matrix of the graph:\n"
          ]
        },
        {
          "name": "stdin",
          "output_type": "stream",
          "text": [
            " 0 1 0 0 1\n",
            " 1 0 1 1 0\n",
            " 0 1 0 1 0\n",
            " 0 1 1 0 1\n",
            " 1 0 0 1 0\n"
          ]
        },
        {
          "name": "stdout",
          "output_type": "stream",
          "text": [
            "\n",
            "Select the method to solve the graph coloring problem:\n",
            "1. Backtracking\n",
            "2. Branch and Bound\n"
          ]
        },
        {
          "name": "stdin",
          "output_type": "stream",
          "text": [
            "Enter your choice (1 or 2):  1\n",
            "Enter the set of colors separated by space:  r g b\n"
          ]
        },
        {
          "name": "stdout",
          "output_type": "stream",
          "text": [
            "Minimum number of colors used (Backtracking): 3\n",
            "Graph coloring:\n",
            "Vertex 0 colored with: r\n",
            "Vertex 1 colored with: g\n",
            "Vertex 2 colored with: r\n",
            "Vertex 3 colored with: b\n",
            "Vertex 4 colored with: g\n"
          ]
        },
        {
          "name": "stdin",
          "output_type": "stream",
          "text": [
            "Do you wannna stop? (yes) no\n"
          ]
        },
        {
          "name": "stdout",
          "output_type": "stream",
          "text": [
            "\n",
            "Select the method to solve the graph coloring problem:\n",
            "1. Backtracking\n",
            "2. Branch and Bound\n"
          ]
        },
        {
          "name": "stdin",
          "output_type": "stream",
          "text": [
            "Enter your choice (1 or 2):  2\n",
            "Enter the set of colors separated by space:  r g b\n"
          ]
        },
        {
          "name": "stdout",
          "output_type": "stream",
          "text": [
            "Minimum number of colors used (Branch and Bound): 3\n",
            "Graph coloring:\n",
            "Vertex 0 colored with: b\n",
            "Vertex 1 colored with: g\n",
            "Vertex 2 colored with: b\n",
            "Vertex 3 colored with: r\n",
            "Vertex 4 colored with: g\n"
          ]
        },
        {
          "name": "stdin",
          "output_type": "stream",
          "text": [
            "Do you wannna stop? (yes) yes\n"
          ]
        }
      ],
      "source": [
        "import heapq\n",
        "\n",
        "class Graph:\n",
        "    def __init__(self, vertices):\n",
        "        self.vertices = vertices\n",
        "        self.graph = [[0 for _ in range(vertices)] for _ in range(vertices)]\n",
        "\n",
        "    def is_safe(self, v, color, c):\n",
        "        for i in range(self.vertices):\n",
        "            if self.graph[v][i] == 1 and color[i] == c:\n",
        "                return False\n",
        "        return True\n",
        "\n",
        "    def graph_coloring_backtracking(self, color_set):\n",
        "        color = [None] * self.vertices\n",
        "        self.graph_coloring_util_backtracking(color_set, color, 0)\n",
        "\n",
        "        num_colors_used = len(set(color))\n",
        "        print(\"Minimum number of colors used (Backtracking):\", num_colors_used)\n",
        "        print(\"Graph coloring:\")\n",
        "        for i, c in enumerate(color):\n",
        "            print(\"Vertex\", i, \"colored with:\", c)\n",
        "\n",
        "    def graph_coloring_util_backtracking(self, color_set, color, v):\n",
        "        if v == self.vertices:\n",
        "            return True\n",
        "\n",
        "        for c in color_set:\n",
        "            if self.is_safe(v, color, c):\n",
        "                color[v] = c\n",
        "                if self.graph_coloring_util_backtracking(color_set, color, v + 1):\n",
        "                    return True\n",
        "                color[v] = None\n",
        "\n",
        "    def graph_coloring_branch_and_bound(self, color_set):\n",
        "        def bound(v):\n",
        "            max_used_color = max(color[:v]) if v > 0 else 0\n",
        "            return max_used_color\n",
        "\n",
        "        def _graph_coloring():\n",
        "            # Priority queue to store (coloring, vertex) pairs based on the number of used colors\n",
        "            pq = [(0, [-1] * self.vertices)]\n",
        "\n",
        "            while pq:\n",
        "                used_colors, coloring = heapq.heappop(pq)\n",
        "\n",
        "                # Find the next vertex to color\n",
        "                v = coloring.index(-1) if -1 in coloring else self.vertices\n",
        "                if v == self.vertices:\n",
        "                    return coloring\n",
        "\n",
        "                for c in color_set:\n",
        "                    if self.is_safe(v, coloring, c):\n",
        "                        new_coloring = list(coloring)\n",
        "                        new_coloring[v] = c\n",
        "                        heapq.heappush(pq, (used_colors + 1, new_coloring))\n",
        "\n",
        "        coloring = _graph_coloring()\n",
        "        num_colors_used = len(set(coloring))\n",
        "        print(\"Minimum number of colors used (Branch and Bound):\", num_colors_used)\n",
        "        print(\"Graph coloring:\")\n",
        "        for i, c in enumerate(coloring):\n",
        "            print(\"Vertex\", i, \"colored with:\", c)\n",
        "\n",
        "\n",
        "def main():\n",
        "    vertices = int(input(\"Enter the number of vertices in the graph: \"))\n",
        "    g = Graph(vertices)\n",
        "\n",
        "    print(\"Enter the adjacency matrix of the graph:\")\n",
        "    for i in range(vertices):\n",
        "        row = list(map(int, input().split()))\n",
        "        for j in range(vertices):\n",
        "            g.graph[i][j] = row[j]\n",
        "    while(True):\n",
        "\n",
        "            print(\"\\nSelect the method to solve the graph coloring problem:\")\n",
        "            print(\"1. Backtracking\")\n",
        "            print(\"2. Branch and Bound\")\n",
        "            choice = input(\"Enter your choice (1 or 2): \")\n",
        "\n",
        "            if choice == '1':\n",
        "                color_set = input(\"Enter the set of colors separated by space: \").split()\n",
        "                g.graph_coloring_backtracking(color_set)\n",
        "            elif choice == '2':\n",
        "                color_set = input(\"Enter the set of colors separated by space: \").split()\n",
        "                g.graph_coloring_branch_and_bound(color_set)\n",
        "            else:\n",
        "                print(\"Invalid choice. Please enter '1' or '2'.\")\n",
        "\n",
        "            char = input(\"Do you wannna stop? (yes)\")\n",
        "            if(char == \"yes\"):\n",
        "                break\n",
        "\n",
        "if __name__ == \"__main__\":\n",
        "    main()\n"
      ]
    },
    {
      "cell_type": "markdown",
      "id": "0a3fd185-5cbe-49b3-8bff-3881b7b2da13",
      "metadata": {
        "id": "0a3fd185-5cbe-49b3-8bff-3881b7b2da13"
      },
      "source": [
        "CHATBOT"
      ]
    },
    {
      "cell_type": "code",
      "execution_count": null,
      "id": "c09b47de-d69d-47ab-84a0-2707044e19c6",
      "metadata": {
        "id": "c09b47de-d69d-47ab-84a0-2707044e19c6",
        "outputId": "155cdf45-8023-4b70-e3c5-058a715db9ef"
      },
      "outputs": [
        {
          "name": "stdout",
          "output_type": "stream",
          "text": [
            "Hello!\n"
          ]
        },
        {
          "name": "stdin",
          "output_type": "stream",
          "text": [
            "What's your name?  Aish\n"
          ]
        },
        {
          "name": "stdout",
          "output_type": "stream",
          "text": [
            "Nice to meet you, Aish!\n"
          ]
        },
        {
          "name": "stdin",
          "output_type": "stream",
          "text": [
            "You:  how are you\n"
          ]
        },
        {
          "name": "stdout",
          "output_type": "stream",
          "text": [
            "Bot: I'm sorry, I didn't understand that.\n"
          ]
        },
        {
          "name": "stdin",
          "output_type": "stream",
          "text": [
            "You:  how can i help you\n"
          ]
        },
        {
          "name": "stdout",
          "output_type": "stream",
          "text": [
            "Bot: I'm sorry, I didn't understand that.\n"
          ]
        },
        {
          "name": "stdin",
          "output_type": "stream",
          "text": [
            "You:  how can I help you?\n"
          ]
        },
        {
          "name": "stdout",
          "output_type": "stream",
          "text": [
            "Bot: I'm sorry, I didn't understand that.\n"
          ]
        },
        {
          "name": "stdin",
          "output_type": "stream",
          "text": [
            "You:  what products do you offer?\n"
          ]
        },
        {
          "name": "stdout",
          "output_type": "stream",
          "text": [
            "Bot: We offer a wide range of products including electronics, clothing, accessories, home goods, and more!\n"
          ]
        },
        {
          "name": "stdin",
          "output_type": "stream",
          "text": [
            "You:  bye\n"
          ]
        },
        {
          "name": "stdout",
          "output_type": "stream",
          "text": [
            "Bot: Thank you for visiting our store! Have a great day!\n"
          ]
        },
        {
          "name": "stdin",
          "output_type": "stream",
          "text": [
            "You:  exit\n"
          ]
        },
        {
          "name": "stdout",
          "output_type": "stream",
          "text": [
            "Bot: Goodbye!\n"
          ]
        }
      ],
      "source": [
        "import random\n",
        "\n",
        "def greet():\n",
        "    greetings = [\"Hi there!\", \"Hello!\", \"Hey!\"]\n",
        "    return random.choice(greetings)\n",
        "\n",
        "def ask_name():\n",
        "    return input(\"What's your name? \")\n",
        "\n",
        "def chat():\n",
        "    print(greet())\n",
        "    name = ask_name()\n",
        "    print(\"Nice to meet you, \" + name + \"!\")\n",
        "    while True:\n",
        "        user_input = input(\"You: \")\n",
        "        if user_input.lower() == 'exit':\n",
        "            print(\"Bot: Goodbye!\")\n",
        "            break\n",
        "        else:\n",
        "            response = generate_response(user_input)\n",
        "            print(\"Bot:\", response)\n",
        "\n",
        "def generate_response(user_input):\n",
        "    responses = {\n",
        "        \"hello\": \"Hello! Welcome to our online store. How can I assist you today?\",\n",
        "        \"what products do you offer?\": \"We offer a wide range of products including electronics, clothing, accessories, home goods, and more!\",\n",
        "        \"do you have any sales or promotions?\": \"Yes, we often have sales and promotions! You can check our website or sign up for our newsletter to stay updated.\",\n",
        "        \"can I track my order?\": \"Of course! Please provide your order number and I'll look up the status for you.\",\n",
        "        \"how do I return an item?\": \"We have a hassle-free return policy. Simply contact our customer service team and they'll assist you with the return process.\",\n",
        "        \"what payment methods do you accept?\": \"We accept various payment methods including credit/debit cards, PayPal, and bank transfers.\",\n",
        "        \"do you offer international shipping?\": \"Yes, we offer international shipping to many countries. You can check the shipping options during checkout.\",\n",
        "        \"how long does shipping take?\": \"Shipping times depend on your location and the shipping method chosen. You can find estimated delivery times during checkout.\",\n",
        "        \"is my personal information secure?\": \"Absolutely! We take customer privacy and security very seriously. Your personal information is encrypted and protected.\",\n",
        "        \"what's your refund policy?\": \"We offer refunds on eligible items within a specified period. Please refer to our refund policy for more details.\",\n",
        "        \"do you have a customer loyalty program?\": \"Yes, we have a loyalty program where you can earn points for every purchase and redeem them for discounts or rewards.\",\n",
        "        \"can I speak to a human representative?\": \"Certainly! If you need further assistance, please contact our customer service team and they'll be happy to help.\",\n",
        "        \"bye\": \"Thank you for visiting our store! Have a great day!\",\n",
        "    }\n",
        "    response = responses.get(user_input.lower(), \"I'm sorry, I didn't understand that.\")\n",
        "    return response\n",
        "\n",
        "if __name__ == \"__main__\":\n",
        "    chat()"
      ]
    },
    {
      "cell_type": "code",
      "execution_count": null,
      "id": "a6393e49-c8be-4541-842f-58289e0ccc94",
      "metadata": {
        "id": "a6393e49-c8be-4541-842f-58289e0ccc94"
      },
      "outputs": [],
      "source": []
    }
  ],
  "metadata": {
    "kernelspec": {
      "display_name": "Python 3 (ipykernel)",
      "language": "python",
      "name": "python3"
    },
    "language_info": {
      "codemirror_mode": {
        "name": "ipython",
        "version": 3
      },
      "file_extension": ".py",
      "mimetype": "text/x-python",
      "name": "python",
      "nbconvert_exporter": "python",
      "pygments_lexer": "ipython3",
      "version": "3.12.1"
    },
    "colab": {
      "provenance": []
    }
  },
  "nbformat": 4,
  "nbformat_minor": 5
}
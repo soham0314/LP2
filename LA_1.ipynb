{
  "nbformat": 4,
  "nbformat_minor": 0,
  "metadata": {
    "colab": {
      "provenance": []
    },
    "kernelspec": {
      "name": "python3",
      "display_name": "Python 3"
    },
    "language_info": {
      "name": "python"
    }
  },
  "cells": [
    {
      "cell_type": "code",
      "execution_count": null,
      "metadata": {
        "id": "AE2MXRc38nFe"
      },
      "outputs": [],
      "source": [
        "class Graph:\n",
        "    def __init__(self, graph):\n",
        "        self.visited = []\n",
        "        self.queue = []\n",
        "        self.graph = graph\n",
        "\n",
        "    def bfs(self, node):\n",
        "        print(node)\n",
        "        if node not in self.visited:\n",
        "            self.visited.append(node)\n",
        "\n",
        "        if node in self.graph:\n",
        "            for neighbour in self.graph[node]:\n",
        "                if neighbour not in self.visited and neighbour not in self.queue:\n",
        "                    self.queue.append(neighbour)\n",
        "\n",
        "        if self.queue:\n",
        "            vertex = self.queue.pop(0)\n",
        "            self.visited.append(vertex)\n",
        "            self.bfs(vertex)\n",
        "\n",
        "    def dfs(self,node):\n",
        "        if node not in self.visited:\n",
        "            print(node)\n",
        "            self.visited.append(node)\n",
        "            if node in self.graph:\n",
        "                for neighbour in self.graph[node]:\n",
        "                    self.dfs(neighbour)\n",
        "\n",
        "def create_graph():\n",
        "    graph = {}\n",
        "    nodes = int(input(\"Enter the number of nodes: \"))\n",
        "\n",
        "    for i in range(nodes):\n",
        "        node = input(f\"Enter node {i + 1}: \")\n",
        "        neighbors = input(f\"Enter neighbors for node {node} (comma-separated, press Enter if none): \")\n",
        "        graph[node] = neighbors.split(',')\n",
        "\n",
        "    return graph\n",
        "\n",
        "\n",
        "def main():\n",
        "    while True:\n",
        "        print(\"Options:\")\n",
        "        print(\"1. Create Graph\")\n",
        "        print(\"2. BFS\")\n",
        "        print(\"3. DFS\")\n",
        "        print(\"4. Exit\")\n",
        "        choice = input(\"Enter your choice: \")\n",
        "\n",
        "        if choice == \"1\":\n",
        "            graph = create_graph()\n",
        "        elif choice == \"2\":\n",
        "            start_node = input(\"Enter the starting node: \")\n",
        "            g = Graph(graph)\n",
        "            print(\"Executing BFS search\")\n",
        "            g.bfs(start_node)\n",
        "        elif choice == \"3\":\n",
        "            start_node = input(\"Enter the starting node: \")\n",
        "            g = Graph(graph)\n",
        "            print(\"Executing DFS search\")\n",
        "            g.dfs(start_node)\n",
        "        elif choice == \"4\":\n",
        "            print(\"Exiting...\")\n",
        "            break\n",
        "        else:\n",
        "            print(\"Invalid choice. Please enter a valid option.\")\n",
        "\n",
        "main()"
      ]
    }
  ]
}